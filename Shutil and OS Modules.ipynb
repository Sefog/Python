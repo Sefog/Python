{
 "cells": [
  {
   "cell_type": "code",
   "execution_count": 1,
   "id": "fca557d1",
   "metadata": {},
   "outputs": [
    {
     "data": {
      "text/plain": [
       "'C:\\\\Users\\\\joere\\\\Learning Python'"
      ]
     },
     "execution_count": 1,
     "metadata": {},
     "output_type": "execute_result"
    }
   ],
   "source": [
    "pwd"
   ]
  },
  {
   "cell_type": "code",
   "execution_count": 2,
   "id": "3ab6cdfa",
   "metadata": {},
   "outputs": [],
   "source": [
    "f = open('practice.text','w+')\n",
    "f.write('This is a test string')\n",
    "f.close()"
   ]
  },
  {
   "cell_type": "code",
   "execution_count": 3,
   "id": "fec76e7d",
   "metadata": {},
   "outputs": [],
   "source": [
    "import os"
   ]
  },
  {
   "cell_type": "code",
   "execution_count": 4,
   "id": "335ff71d",
   "metadata": {},
   "outputs": [
    {
     "data": {
      "text/plain": [
       "'C:\\\\Users\\\\joere\\\\Learning Python'"
      ]
     },
     "execution_count": 4,
     "metadata": {},
     "output_type": "execute_result"
    }
   ],
   "source": [
    "os.getcwd()"
   ]
  },
  {
   "cell_type": "code",
   "execution_count": 5,
   "id": "f8d96946",
   "metadata": {},
   "outputs": [
    {
     "data": {
      "text/plain": [
       "['.ipynb_checkpoints',\n",
       " '03-Function Practice Exercises.ipynb',\n",
       " '08-Functions and Methods Homework.ipynb',\n",
       " 'args and kwargs.ipynb',\n",
       " 'booleans.ipynb',\n",
       " 'chaining comparison operators.ipynb',\n",
       " 'Challenge Project - Bank Account.ipynb',\n",
       " 'Collections Module.ipynb',\n",
       " 'Complete-Python-3-Bootcamp-master',\n",
       " 'dictionaries.ipynb',\n",
       " 'Displaying Info.ipynb',\n",
       " 'Error Handling.ipynb',\n",
       " 'f formating.ipynb',\n",
       " 'files.ipynb',\n",
       " 'for loop.ipynb',\n",
       " 'functions and tuple unpacking.ipynb',\n",
       " 'functions with logic.ipynb',\n",
       " 'functions.ipynb',\n",
       " 'Generators.ipynb',\n",
       " 'if else elif.ipynb',\n",
       " 'interactions between functions.ipynb',\n",
       " 'Lambda Expressions, Map, and Filter Functions.ipynb',\n",
       " 'list comprehensions.ipynb',\n",
       " 'Main and Name',\n",
       " 'Math.ipynb',\n",
       " 'methods.ipynb',\n",
       " 'MILESTONE PROJECT 1.ipynb',\n",
       " 'MILESTONE PROJECT 2.ipynb',\n",
       " 'Modules and Packages.ipynb',\n",
       " 'myfile.txt',\n",
       " 'MyMainPackage',\n",
       " 'mymodule.py',\n",
       " 'myprogram.py',\n",
       " 'my_new_file.txt',\n",
       " 'Nested Statements and Scope.ipynb',\n",
       " 'OOP.ipynb',\n",
       " 'practice.text',\n",
       " 'print.ipynb',\n",
       " 'Python Decorators.ipynb',\n",
       " 'sets.ipynb',\n",
       " 'Shutil and OS Modules.ipynb',\n",
       " 'Simple User Interaction.ipynb',\n",
       " 'simple1.py',\n",
       " 'sorting and appending.ipynb',\n",
       " 'string conc.ipynb',\n",
       " 'testfile',\n",
       " 'true.ipynb',\n",
       " 'tuples.ipynb',\n",
       " 'Unit Testing.ipynb',\n",
       " 'Untitled.ipynb',\n",
       " 'Untitled1.ipynb',\n",
       " 'Untitled2.ipynb',\n",
       " 'Untitled3.ipynb',\n",
       " 'useful operators.ipynb',\n",
       " 'variables.ipynb',\n",
       " 'Warmup to Second Project.ipynb',\n",
       " 'while loops.ipynb']"
      ]
     },
     "execution_count": 5,
     "metadata": {},
     "output_type": "execute_result"
    }
   ],
   "source": [
    "os.listdir()"
   ]
  },
  {
   "cell_type": "raw",
   "id": "7ff9cc9c",
   "metadata": {},
   "source": [
    "os.listdir('C:\\\\Users')"
   ]
  },
  {
   "cell_type": "code",
   "execution_count": 6,
   "id": "7a2e25d7",
   "metadata": {},
   "outputs": [],
   "source": [
    "import shutil"
   ]
  },
  {
   "cell_type": "code",
   "execution_count": 10,
   "id": "a8b83dee",
   "metadata": {},
   "outputs": [
    {
     "data": {
      "text/plain": [
       "'C:\\\\Users\\\\joere\\\\Learning Python\\\\practice.text'"
      ]
     },
     "execution_count": 10,
     "metadata": {},
     "output_type": "execute_result"
    }
   ],
   "source": [
    "shutil.move('C:\\\\Users\\\\joere\\\\practice.text', os.getcwd())"
   ]
  },
  {
   "cell_type": "code",
   "execution_count": 13,
   "id": "587e30b5",
   "metadata": {},
   "outputs": [],
   "source": [
    "import send2trash"
   ]
  },
  {
   "cell_type": "code",
   "execution_count": 14,
   "id": "c3da9c73",
   "metadata": {},
   "outputs": [
    {
     "data": {
      "text/plain": [
       "['.ipynb_checkpoints',\n",
       " '03-Function Practice Exercises.ipynb',\n",
       " '08-Functions and Methods Homework.ipynb',\n",
       " 'args and kwargs.ipynb',\n",
       " 'booleans.ipynb',\n",
       " 'chaining comparison operators.ipynb',\n",
       " 'Challenge Project - Bank Account.ipynb',\n",
       " 'Collections Module.ipynb',\n",
       " 'Complete-Python-3-Bootcamp-master',\n",
       " 'dictionaries.ipynb',\n",
       " 'Displaying Info.ipynb',\n",
       " 'Error Handling.ipynb',\n",
       " 'f formating.ipynb',\n",
       " 'files.ipynb',\n",
       " 'for loop.ipynb',\n",
       " 'functions and tuple unpacking.ipynb',\n",
       " 'functions with logic.ipynb',\n",
       " 'functions.ipynb',\n",
       " 'Generators.ipynb',\n",
       " 'if else elif.ipynb',\n",
       " 'interactions between functions.ipynb',\n",
       " 'Lambda Expressions, Map, and Filter Functions.ipynb',\n",
       " 'list comprehensions.ipynb',\n",
       " 'Main and Name',\n",
       " 'Math.ipynb',\n",
       " 'methods.ipynb',\n",
       " 'MILESTONE PROJECT 1.ipynb',\n",
       " 'MILESTONE PROJECT 2.ipynb',\n",
       " 'Modules and Packages.ipynb',\n",
       " 'myfile.txt',\n",
       " 'MyMainPackage',\n",
       " 'mymodule.py',\n",
       " 'myprogram.py',\n",
       " 'my_new_file.txt',\n",
       " 'Nested Statements and Scope.ipynb',\n",
       " 'OOP.ipynb',\n",
       " 'practice.text',\n",
       " 'print.ipynb',\n",
       " 'Python Decorators.ipynb',\n",
       " 'sets.ipynb',\n",
       " 'Shutil and OS Modules.ipynb',\n",
       " 'Simple User Interaction.ipynb',\n",
       " 'simple1.py',\n",
       " 'sorting and appending.ipynb',\n",
       " 'string conc.ipynb',\n",
       " 'testfile',\n",
       " 'true.ipynb',\n",
       " 'tuples.ipynb',\n",
       " 'Unit Testing.ipynb',\n",
       " 'Untitled.ipynb',\n",
       " 'Untitled1.ipynb',\n",
       " 'Untitled2.ipynb',\n",
       " 'Untitled3.ipynb',\n",
       " 'useful operators.ipynb',\n",
       " 'variables.ipynb',\n",
       " 'Warmup to Second Project.ipynb',\n",
       " 'while loops.ipynb']"
      ]
     },
     "execution_count": 14,
     "metadata": {},
     "output_type": "execute_result"
    }
   ],
   "source": [
    "os.listdir()"
   ]
  },
  {
   "cell_type": "code",
   "execution_count": 16,
   "id": "318cc0a5",
   "metadata": {},
   "outputs": [
    {
     "ename": "FileNotFoundError",
     "evalue": "[WinError -2147024894] The system cannot find the file specified.: 'C:\\\\Users\\\\joere\\\\Learning Python\\\\practice.txt'",
     "output_type": "error",
     "traceback": [
      "\u001b[1;31m---------------------------------------------------------------------------\u001b[0m",
      "\u001b[1;31mcom_error\u001b[0m                                 Traceback (most recent call last)",
      "\u001b[1;32m~\\anaconda3\\lib\\site-packages\\send2trash\\plat_win_modern.py\u001b[0m in \u001b[0;36msend2trash\u001b[1;34m(paths)\u001b[0m\n\u001b[0;32m     58\u001b[0m         \u001b[1;32mfor\u001b[0m \u001b[0mpath\u001b[0m \u001b[1;32min\u001b[0m \u001b[0mpaths\u001b[0m\u001b[1;33m:\u001b[0m\u001b[1;33m\u001b[0m\u001b[1;33m\u001b[0m\u001b[0m\n\u001b[1;32m---> 59\u001b[1;33m             \u001b[0mitem\u001b[0m \u001b[1;33m=\u001b[0m \u001b[0mshell\u001b[0m\u001b[1;33m.\u001b[0m\u001b[0mSHCreateItemFromParsingName\u001b[0m\u001b[1;33m(\u001b[0m\u001b[0mpath\u001b[0m\u001b[1;33m,\u001b[0m \u001b[1;32mNone\u001b[0m\u001b[1;33m,\u001b[0m \u001b[0mshell\u001b[0m\u001b[1;33m.\u001b[0m\u001b[0mIID_IShellItem\u001b[0m\u001b[1;33m)\u001b[0m\u001b[1;33m\u001b[0m\u001b[1;33m\u001b[0m\u001b[0m\n\u001b[0m\u001b[0;32m     60\u001b[0m             \u001b[0mfileop\u001b[0m\u001b[1;33m.\u001b[0m\u001b[0mDeleteItem\u001b[0m\u001b[1;33m(\u001b[0m\u001b[0mitem\u001b[0m\u001b[1;33m,\u001b[0m \u001b[0msink\u001b[0m\u001b[1;33m)\u001b[0m\u001b[1;33m\u001b[0m\u001b[1;33m\u001b[0m\u001b[0m\n",
      "\u001b[1;31mcom_error\u001b[0m: (-2147024894, 'The system cannot find the file specified.', None, None)",
      "\nDuring handling of the above exception, another exception occurred:\n",
      "\u001b[1;31mFileNotFoundError\u001b[0m                         Traceback (most recent call last)",
      "\u001b[1;32m~\\AppData\\Local\\Temp/ipykernel_7464/2246512986.py\u001b[0m in \u001b[0;36m<module>\u001b[1;34m\u001b[0m\n\u001b[1;32m----> 1\u001b[1;33m \u001b[0msend2trash\u001b[0m\u001b[1;33m.\u001b[0m\u001b[0msend2trash\u001b[0m\u001b[1;33m(\u001b[0m\u001b[1;34m'practice.txt'\u001b[0m\u001b[1;33m)\u001b[0m\u001b[1;33m\u001b[0m\u001b[1;33m\u001b[0m\u001b[0m\n\u001b[0m",
      "\u001b[1;32m~\\anaconda3\\lib\\site-packages\\send2trash\\plat_win_modern.py\u001b[0m in \u001b[0;36msend2trash\u001b[1;34m(paths)\u001b[0m\n\u001b[0;32m     67\u001b[0m         \u001b[1;31m# convert to standard OS error, allows other code to get a\u001b[0m\u001b[1;33m\u001b[0m\u001b[1;33m\u001b[0m\u001b[0m\n\u001b[0;32m     68\u001b[0m         \u001b[1;31m# normal errno\u001b[0m\u001b[1;33m\u001b[0m\u001b[1;33m\u001b[0m\u001b[0m\n\u001b[1;32m---> 69\u001b[1;33m         \u001b[1;32mraise\u001b[0m \u001b[0mOSError\u001b[0m\u001b[1;33m(\u001b[0m\u001b[1;32mNone\u001b[0m\u001b[1;33m,\u001b[0m \u001b[0merror\u001b[0m\u001b[1;33m.\u001b[0m\u001b[0mstrerror\u001b[0m\u001b[1;33m,\u001b[0m \u001b[0mpath\u001b[0m\u001b[1;33m,\u001b[0m \u001b[0merror\u001b[0m\u001b[1;33m.\u001b[0m\u001b[0mhresult\u001b[0m\u001b[1;33m)\u001b[0m\u001b[1;33m\u001b[0m\u001b[1;33m\u001b[0m\u001b[0m\n\u001b[0m\u001b[0;32m     70\u001b[0m     \u001b[1;32mfinally\u001b[0m\u001b[1;33m:\u001b[0m\u001b[1;33m\u001b[0m\u001b[1;33m\u001b[0m\u001b[0m\n\u001b[0;32m     71\u001b[0m         \u001b[1;31m# Need to make sure we call this once fore every init\u001b[0m\u001b[1;33m\u001b[0m\u001b[1;33m\u001b[0m\u001b[0m\n",
      "\u001b[1;31mFileNotFoundError\u001b[0m: [WinError -2147024894] The system cannot find the file specified.: 'C:\\\\Users\\\\joere\\\\Learning Python\\\\practice.txt'"
     ]
    }
   ],
   "source": [
    "send2trash.send2trash('practice.txt')"
   ]
  },
  {
   "cell_type": "code",
   "execution_count": null,
   "id": "d52424a5",
   "metadata": {},
   "outputs": [],
   "source": [
    "for folder, sub_folders, file in os.walk"
   ]
  }
 ],
 "metadata": {
  "kernelspec": {
   "display_name": "Python 3 (ipykernel)",
   "language": "python",
   "name": "python3"
  },
  "language_info": {
   "codemirror_mode": {
    "name": "ipython",
    "version": 3
   },
   "file_extension": ".py",
   "mimetype": "text/x-python",
   "name": "python",
   "nbconvert_exporter": "python",
   "pygments_lexer": "ipython3",
   "version": "3.9.7"
  }
 },
 "nbformat": 4,
 "nbformat_minor": 5
}
